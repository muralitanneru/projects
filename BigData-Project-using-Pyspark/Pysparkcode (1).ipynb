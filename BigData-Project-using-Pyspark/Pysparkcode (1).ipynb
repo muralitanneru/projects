{
  "nbformat": 4,
  "nbformat_minor": 0,
  "metadata": {
    "colab": {
      "provenance": []
    },
    "kernelspec": {
      "name": "python3",
      "display_name": "Python 3"
    },
    "language_info": {
      "name": "python"
    }
  },
  "cells": [
    {
      "cell_type": "code",
      "source": [
        "from pyspark.sql import SparkSession\n",
        "from pyspark.ml.feature import VectorAssembler\n",
        "from pyspark.ml.regression import LinearRegression\n",
        "from pyspark.ml.evaluation import RegressionEvaluator\n",
        "from pyspark.sql.functions import col\n",
        "\n",
        "# Define a function to perform linear regression and return the evaluation metrics\n",
        "def linear_regression(df, target_col, feature_cols):\n",
        "    # Create a SparkSession\n",
        "    spark = SparkSession.builder.appName(\"LinearRegression\").getOrCreate()\n",
        "    \n",
        "    # Convert the pandas DataFrame to a Spark DataFrame\n",
        "    sdf = spark.createDataFrame(df)\n",
        "    \n",
        "    # Split the dataset into training and testing sets\n",
        "    trainingData, testData = sdf.randomSplit([0.7, 0.3])\n",
        "\n",
        "    # Create a VectorAssembler object to combine all input columns into a single vector column\n",
        "    assembler = VectorAssembler(inputCols=feature_cols, outputCol=\"features\")\n",
        "\n",
        "    # Apply the VectorAssembler transformation to the training and testing data\n",
        "    trainingData = assembler.transform(trainingData)\n",
        "    testData = assembler.transform(testData)\n",
        "\n",
        "    # Create a LinearRegression object\n",
        "    lr = LinearRegression(featuresCol=\"features\", labelCol=target_col)\n",
        "\n",
        "    # Fit the model to the training data\n",
        "    model = lr.fit(trainingData)\n",
        "\n",
        "    # Make predictions on the testing data\n",
        "    predictions = model.transform(testData)\n",
        "\n",
        "    # Calculate the TSS and RSS\n",
        "    TSS = sdf.select(col(target_col)).rdd.map(lambda x: x[0]).variance() * (sdf.count() - 1)\n",
        "    RSS = predictions.select(col(target_col), col(\"prediction\")).rdd.map(lambda x: (x[0] - x[1])**2).sum()\n",
        "\n",
        "    # Calculate the R-squared value\n",
        "    \n",
        "    R_squared =1 - (RSS / TSS)\n",
        "\n",
        "    # Print model coefficients and intercept\n",
        "    coefficients = model.coefficients\n",
        "    intercept = model.intercept\n",
        "    print(\"Coefficients: \")\n",
        "    feature_names = assembler.getInputCols()\n",
        "    for i in range(len(coefficients)):\n",
        "        print(feature_names[i], \": \", coefficients[i], \" (p-value: \", model.summary.pValues[i], \")\")\n",
        "    print(\"Intercept: \", intercept)\n",
        "\n",
        "    # Calculate and print MSE and RMSE\n",
        "    evaluator = RegressionEvaluator(labelCol=target_col, predictionCol=\"prediction\")\n",
        "    mse = evaluator.evaluate(predictions, {evaluator.metricName: \"mse\"})\n",
        "    rmse = evaluator.evaluate(predictions, {evaluator.metricName: \"rmse\"})\n",
        "    print(\"MSE: \", mse)\n",
        "    print(\"RMSE: \", rmse)\n",
        "    # Print evaluation metrics\n",
        "    print(\"TSS: \", TSS)\n",
        "    print(\"RSS: \", RSS)\n",
        "    print(\"R-squared: \", R_squared)  \n",
        "\n",
        "    # Stop the SparkSession\n",
        "    spark.stop()"
      ],
      "metadata": {
        "id": "pLngPz1UsyR_"
      },
      "execution_count": 10,
      "outputs": []
    },
    {
      "cell_type": "code",
      "source": [
        "\n",
        "import pandas as pd\n",
        "yacht=yacht_hydrodynamics #loading yacht_hydrodynamics dataset\n",
        "# linear_regression() function call with parameters\n",
        "linear_regression(yacht,\"Residuary_Resistance\",[\"Prismatic_Coefficient\", \"Length_Displacement_Ratio\",\"Beam_Draught_Ratio\",\"Length_Beam_Ratio\",\"Froude_Number\"])"
      ],
      "metadata": {
        "colab": {
          "base_uri": "https://localhost:8080/"
        },
        "id": "c7FiCfUBszgo",
        "outputId": "d03d7a47-ad38-4f94-9ceb-5512aeb1b21b"
      },
      "execution_count": 13,
      "outputs": [
        {
          "output_type": "stream",
          "name": "stdout",
          "text": [
            "Coefficients: \n",
            "Prismatic_Coefficient :  -34.75040945464232  (p-value:  0.5370734124191285 )\n",
            "Length_Displacement_Ratio :  -0.7911654110041025  (p-value:  0.9647225133788793 )\n",
            "Beam_Draught_Ratio :  1.5151226451059576  (p-value:  0.8268306062412867 )\n",
            "Length_Beam_Ratio :  2.723922962803385  (p-value:  0.8791874289781711 )\n",
            "Froude_Number :  115.4554197723561  (p-value:  0.0 )\n",
            "Intercept:  -13.996595591980538\n",
            "MSE:  87.39114483089715\n",
            "RMSE:  9.348323102615632\n",
            "TSS:  70331.92703584186\n",
            "RSS:  9700.417076229583\n",
            "R-squared:  0.8620766203194439\n"
          ]
        }
      ]
    },
    {
      "cell_type": "code",
      "source": [
        "from sklearn.datasets import fetch_california_housing\n",
        "import pandas as pd\n",
        "california_housing = fetch_california_housing()\n",
        "california_df = pd.DataFrame(california_housing.data, columns=california_housing.feature_names)\n",
        "california_df['Target'] = california_housing.target\n",
        "linear_regression(california_df,\"Target\",[\"MedInc\",\"HouseAge\",\"AveRooms\",\"AveBedrms\",\"Population\",\"AveOccup\"])"
      ],
      "metadata": {
        "colab": {
          "base_uri": "https://localhost:8080/"
        },
        "id": "JVVzki6As4dh",
        "outputId": "b6d95983-ed50-437b-899e-23a2b4e53231"
      },
      "execution_count": 14,
      "outputs": [
        {
          "output_type": "stream",
          "name": "stdout",
          "text": [
            "Coefficients: \n",
            "MedInc :  0.5330863312140429  (p-value:  0.0 )\n",
            "HouseAge :  0.016289101101361995  (p-value:  0.0 )\n",
            "AveRooms :  -0.20128643213629419  (p-value:  0.0 )\n",
            "AveBedrms :  0.9496244928761213  (p-value:  0.0 )\n",
            "Population :  2.1023472583056972e-05  (p-value:  0.0007944948777023342 )\n",
            "AveOccup :  -0.005204870805665861  (p-value:  0.0 )\n",
            "Intercept:  -0.42965899082755865\n",
            "MSE:  0.6199495610796663\n",
            "RMSE:  0.7873687580033045\n",
            "TSS:  27481.8666433884\n",
            "RSS:  3867.865311576038\n",
            "R-squared:  0.8592575474669741\n"
          ]
        }
      ]
    }
  ]
}